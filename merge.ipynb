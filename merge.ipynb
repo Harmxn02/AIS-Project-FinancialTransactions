{
 "cells": [
  {
   "cell_type": "markdown",
   "metadata": {},
   "source": [
    "# AIS Project - Financial Transactions\n",
    "\n",
    "- **Notebook**: Merge.ipynb\n",
    "- **Contents**: This notebook contains the code to merge all data-files into 1 dataset\n",
    "\n",
    "The merging and exporting process takes ~40 seconds, thanks to Polars being very fast :)"
   ]
  },
  {
   "cell_type": "code",
   "execution_count": 1,
   "metadata": {},
   "outputs": [],
   "source": [
    "import polars as pl\n",
    "\n",
    "def merge_datasets(cards_file: str, users_file: str, transactions_file: str) -> pl.DataFrame:\n",
    "    \"\"\"\n",
    "    Merge three CSV datasets:\n",
    "    - cards_file: Path to the cards data file, containing `client_id`.\n",
    "    - users_file: Path to the users data file, containing `id` that matches `client_id` in cards_file.\n",
    "    - transactions_file: Path to the transactions data file, containing `client_id`.\n",
    "\n",
    "    Returns:\n",
    "        A Polars DataFrame containing the merged data.\n",
    "    \"\"\"\n",
    "\n",
    "    # Read the CSV files into Polars DataFrames\n",
    "    cards_data = pl.read_csv(cards_file)\n",
    "    users_data = pl.read_csv(users_file)\n",
    "    transactions_data = pl.read_csv(transactions_file)\n",
    "\n",
    "    # Merge cards_data with users_data using `client_id` and `id`\n",
    "    merged_cards_users = cards_data.join(users_data, left_on=\"client_id\", right_on=\"id\")\n",
    "\n",
    "    # Merge the resulting data with transactions_data using `client_id`\n",
    "    final_merged_data = merged_cards_users.join(transactions_data, on=\"client_id\")\n",
    "\n",
    "    return final_merged_data"
   ]
  },
  {
   "cell_type": "code",
   "execution_count": 4,
   "metadata": {},
   "outputs": [],
   "source": [
    "merged_data = merge_datasets(\n",
    "\tcards_file=\"./data/cards_data.csv\",\n",
    "\tusers_file=\"./data/users_data.csv\",\n",
    "\ttransactions_file=\"./data/transactions_data.csv\"\n",
    ")"
   ]
  },
  {
   "cell_type": "code",
   "execution_count": 6,
   "metadata": {},
   "outputs": [
    {
     "name": "stdout",
     "output_type": "stream",
     "text": [
      "shape: (51_115_337, 37)\n",
      "┌──────┬───────────┬────────────┬─────────────────┬───┬────────────────┬─────────┬──────┬────────┐\n",
      "│ id   ┆ client_id ┆ card_brand ┆ card_type       ┆ … ┆ merchant_state ┆ zip     ┆ mcc  ┆ errors │\n",
      "│ ---  ┆ ---       ┆ ---        ┆ ---             ┆   ┆ ---            ┆ ---     ┆ ---  ┆ ---    │\n",
      "│ i64  ┆ i64       ┆ str        ┆ str             ┆   ┆ str            ┆ f64     ┆ i64  ┆ str    │\n",
      "╞══════╪═══════════╪════════════╪═════════════════╪═══╪════════════════╪═════════╪══════╪════════╡\n",
      "│ 4333 ┆ 1556      ┆ Mastercard ┆ Debit           ┆ … ┆ ND             ┆ 58523.0 ┆ 5499 ┆ null   │\n",
      "│ 1955 ┆ 1556      ┆ Visa       ┆ Credit          ┆ … ┆ ND             ┆ 58523.0 ┆ 5499 ┆ null   │\n",
      "│ 2972 ┆ 1556      ┆ Mastercard ┆ Debit (Prepaid) ┆ … ┆ ND             ┆ 58523.0 ┆ 5499 ┆ null   │\n",
      "│ 412  ┆ 1556      ┆ Amex       ┆ Credit          ┆ … ┆ ND             ┆ 58523.0 ┆ 5499 ┆ null   │\n",
      "│ 3764 ┆ 561       ┆ Mastercard ┆ Debit           ┆ … ┆ IA             ┆ 52722.0 ┆ 5311 ┆ null   │\n",
      "│ …    ┆ …         ┆ …          ┆ …               ┆ … ┆ …              ┆ …       ┆ …    ┆ …      │\n",
      "│ 5443 ┆ 1986      ┆ Visa       ┆ Debit           ┆ … ┆ CA             ┆ 94014.0 ┆ 5411 ┆ null   │\n",
      "│ 5697 ┆ 489       ┆ Visa       ┆ Debit (Prepaid) ┆ … ┆ TN             ┆ 37073.0 ┆ 5921 ┆ null   │\n",
      "│ 5069 ┆ 489       ┆ Visa       ┆ Debit           ┆ … ┆ TN             ┆ 37073.0 ┆ 5921 ┆ null   │\n",
      "│ 4233 ┆ 489       ┆ Visa       ┆ Credit          ┆ … ┆ TN             ┆ 37073.0 ┆ 5921 ┆ null   │\n",
      "│ 4051 ┆ 489       ┆ Visa       ┆ Credit          ┆ … ┆ TN             ┆ 37073.0 ┆ 5921 ┆ null   │\n",
      "└──────┴───────────┴────────────┴─────────────────┴───┴────────────────┴─────────┴──────┴────────┘\n"
     ]
    }
   ],
   "source": [
    "print(merged_data)"
   ]
  },
  {
   "cell_type": "code",
   "execution_count": 7,
   "metadata": {},
   "outputs": [],
   "source": [
    "merged_data.write_csv(\"./data/merged/merged_data.csv\")"
   ]
  },
  {
   "cell_type": "code",
   "execution_count": null,
   "metadata": {},
   "outputs": [],
   "source": [
    "for n_rows in [100, 1000, 10_000, 100_000]:\n",
    "\tsampled_data = merged_data.sample(n=n_rows)\n",
    "\tsampled_data.write_csv(f\"./data/sampled/sampled_data_{n_rows}.csv\")"
   ]
  }
 ],
 "metadata": {
  "kernelspec": {
   "display_name": "Python 3",
   "language": "python",
   "name": "python3"
  },
  "language_info": {
   "codemirror_mode": {
    "name": "ipython",
    "version": 3
   },
   "file_extension": ".py",
   "mimetype": "text/x-python",
   "name": "python",
   "nbconvert_exporter": "python",
   "pygments_lexer": "ipython3",
   "version": "3.12.7"
  }
 },
 "nbformat": 4,
 "nbformat_minor": 2
}
