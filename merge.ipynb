{
 "cells": [
  {
   "cell_type": "markdown",
   "metadata": {},
   "source": [
    "# AIS Project - Financial Transactions\n",
    "\n",
    "- **Notebook**: Merge.ipynb\n",
    "- **Contents**: This notebook contains the code to merge all data-files into 1 dataset\n",
    "\n",
    "The merging and exporting process takes ~40 seconds, thanks to Polars being very fast :)"
   ]
  },
  {
   "cell_type": "code",
   "execution_count": 1,
   "metadata": {},
   "outputs": [
    {
     "name": "stdout",
     "output_type": "stream",
     "text": [
      "✅ (1/5) Reading the CSV files into Polars DataFrames...\n",
      "✅ (2/5) Ensuring proper column types for merging...\n",
      "✅ (3/5) Merging cards_data with users_data...\n",
      "✅ (4/5) Merging with transactions_data...\n",
      "✅ (5/5) Merging with fraud_labels...\n"
     ]
    }
   ],
   "source": [
    "import polars as pl\n",
    "import json\n",
    "\n",
    "def merge_datasets(cards_file: str, users_file: str, transactions_file: str, train_fraud_labels:str) -> pl.DataFrame:\n",
    "    \"\"\"\n",
    "    Merge three CSV datasets and a JSON file into a single Polars DataFrame.:\n",
    "    - cards_file: Path to the cards data file, containing `client_id`.\n",
    "    - users_file: Path to the users data file, containing `id` that matches `client_id` in cards_file.\n",
    "    - transactions_file: Path to the transactions data file, containing `client_id`.\n",
    "\t- train_fraud_labels: Path to the fraud labels data file, containing `ID`.\n",
    "\n",
    "    Returns:\n",
    "        A Polars DataFrame containing the merged data.\n",
    "    \"\"\"\n",
    "\n",
    "    # Read the CSV files into Polars DataFrames\n",
    "    cards_data = pl.read_csv(cards_file)\n",
    "    users_data = pl.read_csv(users_file)\n",
    "    transactions_data = pl.read_csv(transactions_file)\n",
    "    fraud_labels_df = pl.read_csv(train_fraud_labels)\n",
    "    print(\"✅ (1/5) Reading the CSV files into Polars DataFrames...\")\n",
    "\t\n",
    "\t# Ensure proper column types for merging\n",
    "\t## Cast all `id` columns to string to avoid mismatches\n",
    "    fraud_labels_df = fraud_labels_df.with_columns(pl.col(\"id\").cast(pl.Utf8))\n",
    "    transactions_data = transactions_data.with_columns(pl.col(\"id\").cast(pl.Utf8))\n",
    "    transactions_data = transactions_data.with_columns(pl.col(\"client_id\").cast(pl.Utf8))\n",
    "    cards_data = cards_data.with_columns(pl.col(\"client_id\").cast(pl.Utf8))\n",
    "    cards_data = cards_data.with_columns(pl.col(\"id\").cast(pl.Utf8))\n",
    "    users_data = users_data.with_columns(pl.col(\"id\").cast(pl.Utf8))\n",
    "\n",
    "    fraud_labels_df = fraud_labels_df.rename({\"id\": \"fraud_id\"}).with_columns(pl.col(\"fraud_id\").cast(pl.Utf8))\n",
    "    transactions_data = transactions_data.rename({\"id\": \"transaction_id\"})\n",
    "\n",
    "    print(\"✅ (2/5) Ensuring proper column types for merging...\")\n",
    "\n",
    "    # # Merge cards_data with users_data using `client_id` and `id`\n",
    "    cards_users_merged  = cards_data.join(users_data, left_on=\"client_id\", right_on=\"id\", how=\"inner\")\n",
    "    print(\"✅ (3/5) Merging cards_data with users_data...\")\n",
    "\n",
    "\t# # Merge the resulting data with transactions_data using `client_id`\n",
    "    cards_users_transactions_merged = cards_users_merged.join(transactions_data, on=\"client_id\")\n",
    "    print(\"✅ (4/5) Merging with transactions_data...\")\n",
    "\n",
    "    # # Merge the data with fraud labels using the `id` column\n",
    "    final_merged_data = cards_users_transactions_merged.join(fraud_labels_df, left_on=\"transaction_id\", right_on=\"fraud_id\", how=\"left\")\n",
    "    print(\"✅ (5/5) Merging with fraud_labels...\")\n",
    "\n",
    "    return final_merged_data\n",
    "\n",
    "merged_data = merge_datasets(\n",
    "\tcards_file=\"./data/cards_data.csv\",\n",
    "\tusers_file=\"./data/users_data.csv\",\n",
    "\ttransactions_file=\"./data/transactions_data.csv\",\n",
    "\ttrain_fraud_labels=\"./data/train_fraud_labels.csv\"\n",
    ")"
   ]
  },
  {
   "cell_type": "code",
   "execution_count": 2,
   "metadata": {},
   "outputs": [
    {
     "name": "stdout",
     "output_type": "stream",
     "text": [
      "shape: (51_115_337, 38)\n",
      "┌──────┬───────────┬────────────┬─────────────────┬───┬─────────┬──────┬────────┬──────────────────┐\n",
      "│ id   ┆ client_id ┆ card_brand ┆ card_type       ┆ … ┆ zip     ┆ mcc  ┆ errors ┆ CLASS_fraud_labe │\n",
      "│ ---  ┆ ---       ┆ ---        ┆ ---             ┆   ┆ ---     ┆ ---  ┆ ---    ┆ l                │\n",
      "│ str  ┆ str       ┆ str        ┆ str             ┆   ┆ f64     ┆ i64  ┆ str    ┆ ---              │\n",
      "│      ┆           ┆            ┆                 ┆   ┆         ┆      ┆        ┆ str              │\n",
      "╞══════╪═══════════╪════════════╪═════════════════╪═══╪═════════╪══════╪════════╪══════════════════╡\n",
      "│ 4333 ┆ 1556      ┆ Mastercard ┆ Debit           ┆ … ┆ 58523.0 ┆ 5499 ┆ null   ┆ No               │\n",
      "│ 1955 ┆ 1556      ┆ Visa       ┆ Credit          ┆ … ┆ 58523.0 ┆ 5499 ┆ null   ┆ No               │\n",
      "│ 2972 ┆ 1556      ┆ Mastercard ┆ Debit (Prepaid) ┆ … ┆ 58523.0 ┆ 5499 ┆ null   ┆ No               │\n",
      "│ 412  ┆ 1556      ┆ Amex       ┆ Credit          ┆ … ┆ 58523.0 ┆ 5499 ┆ null   ┆ No               │\n",
      "│ 3764 ┆ 561       ┆ Mastercard ┆ Debit           ┆ … ┆ 52722.0 ┆ 5311 ┆ null   ┆ No               │\n",
      "│ …    ┆ …         ┆ …          ┆ …               ┆ … ┆ …       ┆ …    ┆ …      ┆ …                │\n",
      "│ 5443 ┆ 1986      ┆ Visa       ┆ Debit           ┆ … ┆ 94014.0 ┆ 5411 ┆ null   ┆ null             │\n",
      "│ 5697 ┆ 489       ┆ Visa       ┆ Debit (Prepaid) ┆ … ┆ 37073.0 ┆ 5921 ┆ null   ┆ null             │\n",
      "│ 5069 ┆ 489       ┆ Visa       ┆ Debit           ┆ … ┆ 37073.0 ┆ 5921 ┆ null   ┆ null             │\n",
      "│ 4233 ┆ 489       ┆ Visa       ┆ Credit          ┆ … ┆ 37073.0 ┆ 5921 ┆ null   ┆ null             │\n",
      "│ 4051 ┆ 489       ┆ Visa       ┆ Credit          ┆ … ┆ 37073.0 ┆ 5921 ┆ null   ┆ null             │\n",
      "└──────┴───────────┴────────────┴─────────────────┴───┴─────────┴──────┴────────┴──────────────────┘\n"
     ]
    }
   ],
   "source": [
    "print(merged_data)"
   ]
  },
  {
   "cell_type": "code",
   "execution_count": null,
   "metadata": {},
   "outputs": [],
   "source": [
    "# merged_data.write_csv(\"./data/merged/merged_data.csv\")\n",
    "# ? This file turns out to be 12GB in size, so we actually skip this step. \n",
    "# ? Instead we export samples"
   ]
  },
  {
   "cell_type": "code",
   "execution_count": null,
   "metadata": {},
   "outputs": [],
   "source": [
    "for n_rows in [100, 1_000, 10_000, 100_000]:\n",
    "\tsampled_data = merged_data.sample(n=n_rows)\n",
    "\tsampled_data.write_csv(f\"./data/sampled_class/sampled_data_{n_rows}.csv\")"
   ]
  }
 ],
 "metadata": {
  "kernelspec": {
   "display_name": "Python 3",
   "language": "python",
   "name": "python3"
  },
  "language_info": {
   "codemirror_mode": {
    "name": "ipython",
    "version": 3
   },
   "file_extension": ".py",
   "mimetype": "text/x-python",
   "name": "python",
   "nbconvert_exporter": "python",
   "pygments_lexer": "ipython3",
   "version": "3.12.7"
  }
 },
 "nbformat": 4,
 "nbformat_minor": 2
}
